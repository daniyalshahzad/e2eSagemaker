{
 "cells": [
  {
   "cell_type": "code",
   "execution_count": 27,
   "id": "9fd4781e-f81c-427c-a483-151858e724ce",
   "metadata": {
    "tags": []
   },
   "outputs": [],
   "source": [
    "import boto3\n",
    "import sagemaker\n",
    "from sagemaker import get_execution_role\n",
    "from sagemaker.workflow.pipeline import Pipeline\n",
    "from sagemaker.pipeline import PipelineModel\n",
    "from sagemaker.workflow.steps import ProcessingStep, TrainingStep, CreateModelStep\n",
    "\n",
    "from sagemaker.processing import ScriptProcessor, ProcessingInput, ProcessingOutput\n",
    "from sagemaker.estimator import Estimator\n",
    "from sagemaker.inputs import TrainingInput\n",
    "from sagemaker.workflow.pipeline_context import PipelineSession\n",
    "from sagemaker.workflow.parameters import ParameterString\n",
    "from sagemaker.workflow.execution_variables import ExecutionVariables\n",
    "from sagemaker.model import Model\n",
    "from sagemaker.sklearn.processing import SKLearnProcessor\n",
    "\n",
    "from sagemaker.workflow.conditions import ConditionGreaterThanOrEqualTo\n",
    "from sagemaker.workflow.condition_step import ConditionStep\n",
    "from sagemaker.workflow.functions import JsonGet\n",
    "from sagemaker.workflow.properties import PropertyFile\n",
    "\n",
    "from sagemaker.workflow.fail_step import FailStep\n",
    "from sagemaker.workflow.functions import Join\n",
    "\n",
    "from sagemaker.tuner import HyperparameterTuner, CategoricalParameter\n",
    "from sagemaker.workflow.steps import TuningStep\n",
    "\n",
    "from sagemaker.workflow.functions import Join\n"
   ]
  },
  {
   "cell_type": "code",
   "execution_count": 2,
   "id": "ef9e0966-a8b4-4f2b-a3f2-10a62c38d287",
   "metadata": {
    "tags": []
   },
   "outputs": [
    {
     "name": "stderr",
     "output_type": "stream",
     "text": [
      "INFO:botocore.credentials:Found credentials from IAM Role: BaseNotebookInstanceEc2InstanceRole\n",
      "INFO:botocore.credentials:Found credentials from IAM Role: BaseNotebookInstanceEc2InstanceRole\n"
     ]
    }
   ],
   "source": [
    "#Initialization\n",
    "role = get_execution_role()\n",
    "sagemaker_session = PipelineSession()\n",
    "\n",
    "bucket = 'temp129428'\n",
    "data = 'bank_clean.csv'\n",
    "region = region = boto3.Session().region_name\n",
    "input_folder_name = 'input'\n",
    "output_folder_name = 'output'\n",
    "\n",
    "input_data_path = f's3://{bucket}/{input_folder_name}/{data}'\n",
    "#input_mappings_path = f's3://{bucket}/{input_folder_name}/mappings.csv'\n",
    "output_train_path = f's3://{bucket}/{output_folder_name}/train/'\n",
    "output_test_path = f's3://{bucket}/{output_folder_name}/test/'\n",
    "output_txt_path = f's3://{bucket}/{output_folder_name}/txt/' #Will be used for metadata\n",
    "\n",
    "preprocessing_script_path = f's3://{bucket}/{input_folder_name}/preprocessing.py'\n",
    "model_path = f\"s3://{bucket}/{output_folder_name}/model\"\n",
    "eval_script_path = f's3://{bucket}/{input_folder_name}/evaluate.py'\n",
    "deployment_script_path = f\"s3://{bucket}/{input_folder_name}/deploy_model.py\""
   ]
  },
  {
   "cell_type": "code",
   "execution_count": 3,
   "id": "3211bbc2-4ed3-4aee-ab69-e66d862b436f",
   "metadata": {
    "tags": []
   },
   "outputs": [],
   "source": [
    "input_data = ParameterString(\n",
    "    name=\"InputData\",\n",
    "    default_value=input_data_path,\n",
    ")\n",
    "\n",
    "preprocessed_data_train = ParameterString(\n",
    "    name=\"PreprocessedDataTrain\",\n",
    "    default_value=output_train_path,\n",
    ")\n",
    "\n",
    "preprocessed_data_test = ParameterString(\n",
    "    name=\"PreprocessedDataTest\",\n",
    "    default_value=output_test_path,\n",
    ")\n",
    "\n",
    "preprocessed_data_txt = ParameterString(\n",
    "    name=\"PreprocessedDataTXT\",\n",
    "    default_value=output_txt_path,\n",
    ")"
   ]
  },
  {
   "cell_type": "code",
   "execution_count": 4,
   "id": "17b728da-97da-4736-9cb6-31729b76c5f4",
   "metadata": {
    "tags": []
   },
   "outputs": [
    {
     "name": "stderr",
     "output_type": "stream",
     "text": [
      "INFO:sagemaker.image_uris:Defaulting to only available Python version: py3\n",
      "INFO:sagemaker.image_uris:Defaulting to only supported image scope: cpu.\n"
     ]
    }
   ],
   "source": [
    "script_processor = ScriptProcessor(\n",
    "    role=role,\n",
    "    image_uri=sagemaker.image_uris.retrieve('sklearn', region=region, version='0.23-1'),  # Example image\n",
    "    command=['python3'],\n",
    "    instance_count=1,\n",
    "    instance_type='ml.m5.4xlarge',\n",
    "    #instance_type='ml.m5.xlarge',\n",
    "    sagemaker_session=sagemaker_session\n",
    ")"
   ]
  },
  {
   "cell_type": "code",
   "execution_count": 5,
   "id": "db0cc19e-3118-40c7-934a-fd503d26b1a1",
   "metadata": {
    "tags": []
   },
   "outputs": [],
   "source": [
    "processing_step = ProcessingStep(\n",
    "    name=\"PreprocessData\",\n",
    "    processor=script_processor,\n",
    "    inputs=[\n",
    "        ProcessingInput(\n",
    "            source=input_data,\n",
    "            destination='/opt/ml/processing/input'\n",
    "        )\n",
    "    ],\n",
    "    outputs=[\n",
    "        ProcessingOutput(\n",
    "            output_name='trainoutput',\n",
    "            source='/opt/ml/processing/output/train',\n",
    "            destination=preprocessed_data_train\n",
    "        ),\n",
    "        ProcessingOutput(\n",
    "            output_name='testoutput',\n",
    "            source='/opt/ml/processing/output/test',\n",
    "            destination=preprocessed_data_test\n",
    "        ),\n",
    "        ProcessingOutput(\n",
    "            output_name='columnoutput',\n",
    "            source='/opt/ml/processing/output/txt',\n",
    "            destination=preprocessed_data_txt\n",
    "        )\n",
    "    ],\n",
    "    code=preprocessing_script_path,\n",
    "    job_arguments=[\n",
    "        '--input', f'/opt/ml/processing/input/{data}',\n",
    "        '--output_train', '/opt/ml/processing/output/train/processed_train.csv',\n",
    "        '--output_test', '/opt/ml/processing/output/test/processed_test.csv',\n",
    "        '--output_txt', '/opt/ml/processing/output/txt/'\n",
    "    ]\n",
    ")"
   ]
  },
  {
   "cell_type": "markdown",
   "id": "44cef21f-ee1e-4588-8ef7-d410fd0695ce",
   "metadata": {},
   "source": [
    "Tuning Step"
   ]
  },
  {
   "cell_type": "code",
   "execution_count": 6,
   "id": "7896dd2e-dc3f-4795-9548-53770ee4aba2",
   "metadata": {
    "tags": []
   },
   "outputs": [
    {
     "name": "stderr",
     "output_type": "stream",
     "text": [
      "INFO:sagemaker.image_uris:Ignoring unnecessary instance type: None.\n",
      "INFO:botocore.credentials:Found credentials from IAM Role: BaseNotebookInstanceEc2InstanceRole\n",
      "/home/ec2-user/anaconda3/envs/python3/lib/python3.10/site-packages/sagemaker/workflow/pipeline_context.py:332: UserWarning: Running within a PipelineSession, there will be No Wait, No Logs, and No Job being started.\n",
      "  warnings.warn(\n"
     ]
    }
   ],
   "source": [
    "# Define the XGBoost container\n",
    "container = sagemaker.image_uris.retrieve(\"xgboost\", region, \"1.2-1\")\n",
    "\n",
    "# Set the static hyperparameters\n",
    "hyperparameters = {\n",
    "    \"eval_metric\": \"logloss\",\n",
    "    \"objective\": \"binary:logistic\",\n",
    "    \"num_round\": 400\n",
    "}\n",
    "\n",
    "# Define the XGBoost estimator\n",
    "xgb_estimator = Estimator(\n",
    "    image_uri=container,\n",
    "    hyperparameters=hyperparameters,\n",
    "    role=role,\n",
    "    instance_count=1,\n",
    "    instance_type='ml.m5.xlarge',\n",
    "    volume_size=5,  # 5 GB \n",
    "    output_path=tuning_model_path,\n",
    "    use_spot_instances=True,\n",
    "    max_wait=600, \n",
    "    max_run=300,\n",
    "    sagemaker_session=sagemaker_session\n",
    ")\n",
    "\n",
    "# Define hyperparameter ranges for grid search\n",
    "# In this case, tuning the lasso regularization strength parameter\n",
    "hyperparameter_ranges = {\n",
    "    'alpha': CategoricalParameter([10, 100, 1000, 5000])\n",
    "    #Secondthing 1 2 3\n",
    "    #,Add more\n",
    "}\n",
    "\n",
    "# Define objective metric and metric definitions\n",
    "objective_metric_name = 'validation:logloss'\n",
    "metric_definitions = [{'Name': 'validation:logloss', 'Regex': '.*\\\\[[0-9]+\\\\].*logloss:([0-9\\\\.]+)'}]\n",
    "\n",
    "# Create hyperparameter tuner\n",
    "tuner = HyperparameterTuner(\n",
    "    estimator=xgb_estimator,\n",
    "    objective_metric_name=objective_metric_name,\n",
    "    hyperparameter_ranges=hyperparameter_ranges,\n",
    "    metric_definitions=metric_definitions,\n",
    "    max_jobs=4,  # Number of total training jobs\n",
    "    max_parallel_jobs=2,  # Number of parallel training jobs\n",
    "    strategy='Grid', #Bayesian Optimization (Future)\n",
    "    objective_type=\"Minimize\"\n",
    ")\n",
    "\n",
    "\n",
    "hpo_args = tuner.fit(\n",
    "    inputs={\n",
    "        \"train\": TrainingInput(\n",
    "            s3_data=processing_step.properties.ProcessingOutputConfig.Outputs[\"trainoutput\"].S3Output.S3Uri,\n",
    "            content_type=\"text/csv\",\n",
    "        ),\n",
    "        \"validation\": TrainingInput(\n",
    "            s3_data=processing_step.properties.ProcessingOutputConfig.Outputs[\n",
    "                \"testoutput\"\n",
    "            ].S3Output.S3Uri,\n",
    "            content_type=\"text/csv\",\n",
    "        ),\n",
    "    }\n",
    ")\n",
    "\n",
    "# Define the tuning step\n",
    "tuning_step = TuningStep(\n",
    "    name=\"HPTuning\",\n",
    "    step_args=hpo_args,\n",
    ")"
   ]
  },
  {
   "cell_type": "markdown",
   "id": "f5c7216f-58fa-4e10-8693-41dc3bc37b97",
   "metadata": {},
   "source": [
    "Eval Steps"
   ]
  },
  {
   "cell_type": "code",
   "execution_count": 7,
   "id": "4b5d4f30-17d6-4914-84b3-f409ce8a1c30",
   "metadata": {
    "tags": []
   },
   "outputs": [],
   "source": [
    "path_to_best_model = Join(on=\"/\",\n",
    "        values=[\n",
    "            f\"s3://{bucket}/output/tuning\",\n",
    "            tuning_step.properties.BestTrainingJob.TrainingJobName,\n",
    "            \"output/model.tar.gz\"\n",
    "        ]\n",
    "    )"
   ]
  },
  {
   "cell_type": "code",
   "execution_count": 8,
   "id": "4683feb1-fabf-45eb-837d-8039719f35f2",
   "metadata": {
    "tags": []
   },
   "outputs": [],
   "source": [
    "# Define the ScriptProcessor for evaluation\n",
    "evaluation_processor = ScriptProcessor(\n",
    "    role=role,\n",
    "    image_uri=container,\n",
    "    command=['python3'],\n",
    "    instance_count=1,\n",
    "    instance_type='ml.m5.xlarge',\n",
    "    base_job_name=\"evaluate-model\",\n",
    "    sagemaker_session=sagemaker_session,\n",
    ")\n",
    "\n",
    "# Define the evaluation step and property file\n",
    "evaluation_property_file = PropertyFile(\n",
    "    name=\"EvaluationReport\",\n",
    "    output_name=\"evaluation\",\n",
    "    path=\"evaluation.json\"\n",
    ")\n",
    "\n",
    "evaluation_step = ProcessingStep(\n",
    "    name=\"EvaluateModel\",\n",
    "    processor=evaluation_processor,\n",
    "    inputs=[\n",
    "        ProcessingInput(\n",
    "            #source=training_step.properties.ModelArtifacts.S3ModelArtifacts,\n",
    "            source=path_to_best_# Define the ScriptProcessor for evaluation\n",
    "evaluation_processor = ScriptProcessor(\n",
    "    role=role,\n",
    "    image_uri=container,\n",
    "    command=['python3'],\n",
    "    instance_count=1,\n",
    "    instance_type='ml.m5.xlarge',\n",
    "    base_job_name=\"evaluate-model\",\n",
    "    sagemaker_session=sagemaker_session,\n",
    ")\n",
    "\n",
    "# Define the evaluation step and property file\n",
    "evaluation_property_file = PropertyFile(\n",
    "    name=\"EvaluationReport\",\n",
    "    output_name=\"evaluation\",\n",
    "    path=\"evaluation.json\"\n",
    ")\n",
    "\n",
    "evaluation_step = ProcessingStep(\n",
    "    name=\"EvaluateModel\",\n",
    "    processor=evaluation_processor,\n",
    "    inputs=[\n",
    "        ProcessingInput(\n",
    "            source=path_to_best_model,\n",
    "            destination=\"/opt/ml/processing/model\"\n",
    "        ),\n",
    "        ProcessingInput(\n",
    "            source=processing_step.properties.ProcessingOutputConfig.Outputs['trainoutput'].S3Output.S3Uri,\n",
    "            destination=\"/opt/ml/processing/train\"\n",
    "        ),\n",
    "        ProcessingInput(\n",
    "            source=processing_step.properties.ProcessingOutputConfig.Outputs['testoutput'].S3Output.S3Uri,\n",
    "            destination=\"/opt/ml/processing/test\"\n",
    "        )\n",
    "    ],\n",
    "    outputs=[\n",
    "        ProcessingOutput(\n",
    "            output_name=\"evaluation\",\n",
    "            source=\"/opt/ml/processing/evaluation\",\n",
    "            destination=f's3://{bucket}/{output_folder_name}/evaluation'\n",
    "        )\n",
    "    ],\n",
    "    code=eval_script_path,\n",
    "    job_arguments=[\n",
    "        '--model-path', '/opt/ml/processing/model',\n",
    "        '--train-path', 'opt/ml/processing/train',\n",
    "        '--test-path', '/opt/ml/processing/test',\n",
    "        '--output-path', '/opt/ml/processing/evaluation'\n",
    "    ],\n",
    "    property_files=[evaluation_property_file]\n",
    ")model,\n",
    "            destination=\"/opt/ml/processing/model\"\n",
    "        ),\n",
    "        ProcessingInput(\n",
    "            source=processing_step.properties.ProcessingOutputConfig.Outputs['testoutput'].S3Output.S3Uri,\n",
    "            destination=\"/opt/ml/processing/test\"\n",
    "        )\n",
    "    ],\n",
    "    outputs=[\n",
    "        ProcessingOutput(\n",
    "            output_name=\"evaluation\",\n",
    "            source=\"/opt/ml/processing/evaluation\",\n",
    "            destination=f's3://{bucket}/{output_folder_name}/evaluation'\n",
    "        )\n",
    "    ],\n",
    "    code=eval_script_path,\n",
    "    job_arguments=[\n",
    "        '--model-path', '/opt/ml/processing/model',\n",
    "        '--test-path', '/opt/ml/processing/test',\n",
    "        '--output-path', '/opt/ml/processing/evaluation'\n",
    "    ],\n",
    "    property_files=[evaluation_property_file]\n",
    ")"
   ]
  },
  {
   "cell_type": "markdown",
   "id": "314c12a3-8ece-448f-9e39-d93bdac3653f",
   "metadata": {},
   "source": [
    "Model Step"
   ]
  },
  {
   "cell_type": "code",
   "execution_count": 15,
   "id": "3e18dc0d-55ee-4db4-9411-9c9365b604de",
   "metadata": {
    "tags": []
   },
   "outputs": [
    {
     "name": "stderr",
     "output_type": "stream",
     "text": [
      "INFO:sagemaker.image_uris:Defaulting to only available Python version: py3\n",
      "INFO:sagemaker.image_uris:Defaulting to only supported image scope: cpu.\n"
     ]
    }
   ],
   "source": [
    "#Change here for 1000 row model or full data model\n",
    "preprocessing_model = Model(\n",
    "    image_uri=sagemaker.image_uris.retrieve(\"sklearn\", region, \"0.23-1\"),\n",
    "    model_data=None,  # No pre-trained model file required for preprocessing\n",
    "    role=role,\n",
    "    entry_point='preprocess_inference.py',  # Preprocessing script saved locally\n",
    "    sagemaker_session=sagemaker_session\n",
    ")\n",
    "\n",
    "inference_model = Model(\n",
    "    image_uri=tuning_step.properties.TrainingJobDefinition.AlgorithmSpecification.TrainingImage,\n",
    "    model_data=path_to_best_model,\n",
    "    role=role,\n",
    "    entry_point='inference.py',\n",
    "    sagemaker_session=sagemaker_session\n",
    ")\n",
    "\n",
    "model = PipelineModel(\n",
    "    name='pipeline-model',\n",
    "    role=role,\n",
    "    models=[preprocessing_model, inference_model],\n",
    "    sagemaker_session=sagemaker_session\n",
    ")\n",
    "\n",
    "# Create the model step\n",
    "model_step = CreateModelStep(\n",
    "    name=\"CreateModel\",\n",
    "    model=model,\n",
    "    inputs=sagemaker.inputs.CreateModelInput(instance_type=\"ml.t3.medium\")\n",
    ")"
   ]
  },
  {
   "cell_type": "markdown",
   "id": "232919b4-adb8-450d-9bf7-52e53e2351a7",
   "metadata": {},
   "source": [
    "Fail Step\n"
   ]
  },
  {
   "cell_type": "code",
   "execution_count": 16,
   "id": "4e8fec8c-937f-4985-9a2f-1c2dedd91013",
   "metadata": {
    "tags": []
   },
   "outputs": [],
   "source": [
    "fail_step = FailStep(\n",
    "    name=\"AccuracyBelowThreshold\",\n",
    "    error_message=Join(on=\" \", values=[\"Execution failed due to accuracy <\", 0.8]),\n",
    ")"
   ]
  },
  {
   "cell_type": "markdown",
   "id": "b8d046c9-5296-469c-8705-a37b089226a8",
   "metadata": {},
   "source": [
    "Deployment Step"
   ]
  },
  {
   "cell_type": "code",
   "execution_count": 17,
   "id": "22b68dc5-5eb9-4ea5-af18-e2096bb6919f",
   "metadata": {
    "tags": []
   },
   "outputs": [
    {
     "name": "stderr",
     "output_type": "stream",
     "text": [
      "INFO:sagemaker.image_uris:Defaulting to only available Python version: py3\n"
     ]
    }
   ],
   "source": [
    "# Define the SKLearnProcessor for deployment\n",
    "deploy_model_processor = SKLearnProcessor(\n",
    "    framework_version=\"0.23-1\",\n",
    "    role=role,\n",
    "    instance_type='ml.m5.xlarge',\n",
    "    instance_count=1,\n",
    "    volume_size_in_gb=60,\n",
    "    base_job_name=\"deployingtest\",\n",
    "    sagemaker_session=sagemaker_session,\n",
    ")\n",
    "\n",
    "# Define the processing step to deploy the model\n",
    "deploy_step = ProcessingStep(\n",
    "    name=\"DeployModel\",\n",
    "    processor=deploy_model_processor,\n",
    "    job_arguments=[\n",
    "        \"--model-name\", model_step.properties.ModelName,\n",
    "        \"--region\", region,\n",
    "        \"--endpoint-instance-type\", \"ml.t2.medium\",\n",
    "        \"--endpoint-name\", \"hpodhubdev\",\n",
    "    ],\n",
    "    code=deployment_script_path,\n",
    ")"
   ]
  },
  {
   "cell_type": "markdown",
   "id": "7b998a1d-5286-45fd-93e2-66c3fd7d4ca8",
   "metadata": {},
   "source": [
    "Conditional Step"
   ]
  },
  {
   "cell_type": "code",
   "execution_count": 18,
   "id": "cdcb306d-a13b-4a48-973f-9adc3398e689",
   "metadata": {
    "tags": []
   },
   "outputs": [],
   "source": [
    "# Define the condition step\n",
    "condition_step = ConditionStep(\n",
    "    name=\"CheckEvaluation\",\n",
    "    conditions=[\n",
    "        ConditionGreaterThanOrEqualTo(\n",
    "            left=JsonGet(\n",
    "                step_name=\"EvaluateModel\",\n",
    "                property_file=evaluation_property_file,\n",
    "                json_path=\"classification_metrics.BSS.value\"\n",
    "            ),\n",
    "            right=0  # Set the accuracy threshold\n",
    "        )\n",
    "    ],\n",
    "    if_steps=[model_step, deploy_step],\n",
    "    else_steps=[fail_step]\n",
    ")"
   ]
  },
  {
   "cell_type": "markdown",
   "id": "9154d3e2-2e29-406c-a6ca-62e27ad2ffed",
   "metadata": {},
   "source": [
    "Pipeline Creation"
   ]
  },
  {
   "cell_type": "code",
   "execution_count": 20,
   "id": "bfcc9cb1-389a-481b-80eb-eca0997281b0",
   "metadata": {
    "tags": []
   },
   "outputs": [],
   "source": [
    "# Create the pipeline\n",
    "pipeline = Pipeline(\n",
    "    name=\"dhubpipe\",\n",
    "    parameters=[input_data, preprocessed_data_train, preprocessed_data_test, preprocessed_data_txt],\n",
    "    #steps=[processing_step, training_step, evaluation_step, condition_step],\n",
    "    steps=[processing_step, tuning_step, evaluation_step, condition_step],\n",
    "    sagemaker_session=sagemaker_session,\n",
    ")"
   ]
  },
  {
   "cell_type": "markdown",
   "id": "f345a7cd-bfdd-42e2-9559-3f41eed0df6c",
   "metadata": {},
   "source": [
    "Pipeline Execution"
   ]
  },
  {
   "cell_type": "code",
   "execution_count": 21,
   "id": "0b49debe-c49b-4e11-8842-804d6f9d7e58",
   "metadata": {
    "tags": []
   },
   "outputs": [
    {
     "name": "stderr",
     "output_type": "stream",
     "text": [
      "WARNING:sagemaker.workflow.utilities:Popping out 'ProcessingJobName' from the pipeline definition by default since it will be overridden at pipeline execution time. Please utilize the PipelineDefinitionConfig to persist this field in the pipeline definition if desired.\n",
      "WARNING:sagemaker.estimator:No finished training job found associated with this estimator. Please make sure this estimator is only used for building workflow config\n",
      "WARNING:sagemaker.estimator:No finished training job found associated with this estimator. Please make sure this estimator is only used for building workflow config\n",
      "WARNING:sagemaker.workflow.utilities:Popping out 'HyperParameterTuningJobName' from the pipeline definition by default since it will be overridden at pipeline execution time. Please utilize the PipelineDefinitionConfig to persist this field in the pipeline definition if desired.\n",
      "WARNING:sagemaker.workflow.utilities:Popping out 'ProcessingJobName' from the pipeline definition by default since it will be overridden at pipeline execution time. Please utilize the PipelineDefinitionConfig to persist this field in the pipeline definition if desired.\n",
      "WARNING:sagemaker.workflow.utilities:Popping out 'ModelName' from the pipeline definition by default since it will be overridden at pipeline execution time. Please utilize the PipelineDefinitionConfig to persist this field in the pipeline definition if desired.\n",
      "WARNING:sagemaker.workflow.utilities:Popping out 'ProcessingJobName' from the pipeline definition by default since it will be overridden at pipeline execution time. Please utilize the PipelineDefinitionConfig to persist this field in the pipeline definition if desired.\n",
      "WARNING:sagemaker.workflow.utilities:Popping out 'ProcessingJobName' from the pipeline definition by default since it will be overridden at pipeline execution time. Please utilize the PipelineDefinitionConfig to persist this field in the pipeline definition if desired.\n",
      "WARNING:sagemaker.estimator:No finished training job found associated with this estimator. Please make sure this estimator is only used for building workflow config\n",
      "WARNING:sagemaker.estimator:No finished training job found associated with this estimator. Please make sure this estimator is only used for building workflow config\n",
      "WARNING:sagemaker.workflow.utilities:Popping out 'HyperParameterTuningJobName' from the pipeline definition by default since it will be overridden at pipeline execution time. Please utilize the PipelineDefinitionConfig to persist this field in the pipeline definition if desired.\n",
      "WARNING:sagemaker.workflow.utilities:Popping out 'ProcessingJobName' from the pipeline definition by default since it will be overridden at pipeline execution time. Please utilize the PipelineDefinitionConfig to persist this field in the pipeline definition if desired.\n",
      "WARNING:sagemaker.workflow.utilities:Popping out 'ModelName' from the pipeline definition by default since it will be overridden at pipeline execution time. Please utilize the PipelineDefinitionConfig to persist this field in the pipeline definition if desired.\n",
      "WARNING:sagemaker.workflow.utilities:Popping out 'ProcessingJobName' from the pipeline definition by default since it will be overridden at pipeline execution time. Please utilize the PipelineDefinitionConfig to persist this field in the pipeline definition if desired.\n"
     ]
    }
   ],
   "source": [
    "# Execute the pipeline\n",
    "pipeline.upsert(role_arn=role)\n",
    "execution = pipeline.start()\n",
    "execution.wait()"
   ]
  },
  {
   "cell_type": "markdown",
   "id": "7fdeb475-dc9c-4d3b-a411-b024ad3c52ec",
   "metadata": {},
   "source": [
    "### Testing Endpoint"
   ]
  },
  {
   "cell_type": "code",
   "execution_count": 22,
   "id": "1cc2abfb-ea84-4406-8df8-a37439101190",
   "metadata": {
    "tags": []
   },
   "outputs": [
    {
     "name": "stderr",
     "output_type": "stream",
     "text": [
      "INFO:botocore.credentials:Found credentials from IAM Role: BaseNotebookInstanceEc2InstanceRole\n"
     ]
    }
   ],
   "source": [
    "import json\n",
    "import requests\n",
    "import time\n",
    "import boto3\n",
    "from requests_aws4auth import AWS4Auth\n",
    "import pandas as pd\n",
    "import random\n",
    "import datetime\n",
    "import numpy as np\n",
    "\n",
    "# AWS credentials and region\n",
    "session = boto3.Session()\n",
    "credentials = session.get_credentials()\n",
    "region = 'us-east-2'\n",
    "\n",
    "# Create an AWS4Auth object\n",
    "auth = AWS4Auth(credentials.access_key, credentials.secret_key, region, 'sagemaker', session_token=credentials.token)"
   ]
  },
  {
   "cell_type": "code",
   "execution_count": 23,
   "id": "50bd990c-b265-45ca-ad9c-1f9eb5cedb81",
   "metadata": {
    "tags": []
   },
   "outputs": [],
   "source": [
    "# SageMaker endpoint URL\n",
    "url = 'https://runtime.sagemaker.us-east-2.amazonaws.com/endpoints/dhub2/invocations'\n",
    "\n",
    "# Define the headers explicitly without charset\n",
    "headers = {\n",
    "    \"Content-Type\": \"application/json\"\n",
    "}\n",
    "\n",
    "d = pd.read_csv('demo_data.csv')"
   ]
  },
  {
   "cell_type": "code",
   "execution_count": 25,
   "id": "488b7832-d059-4bb1-8638-1df70c098626",
   "metadata": {
    "tags": []
   },
   "outputs": [
    {
     "name": "stderr",
     "output_type": "stream",
     "text": [
      "/tmp/ipykernel_8066/1927031462.py:2: FutureWarning: Setting an item of incompatible dtype is deprecated and will raise in a future error of pandas. Value 'nan' has dtype incompatible with int64, please explicitly cast to a compatible dtype first.\n",
      "  d.iloc[:,:] = np.nan\n",
      "/tmp/ipykernel_8066/1927031462.py:2: FutureWarning: Setting an item of incompatible dtype is deprecated and will raise in a future error of pandas. Value 'nan' has dtype incompatible with int64, please explicitly cast to a compatible dtype first.\n",
      "  d.iloc[:,:] = np.nan\n"
     ]
    }
   ],
   "source": [
    "d = d.drop(columns=['result', 'DateClosed', 'DateDifferenceTXDateAndDateClosed'])\n",
    "d.iloc[:,:] = np.nan"
   ]
  },
  {
   "cell_type": "code",
   "execution_count": 26,
   "id": "cda26687-65f3-4698-8e13-ecad1e4251a7",
   "metadata": {
    "tags": []
   },
   "outputs": [
    {
     "name": "stdout",
     "output_type": "stream",
     "text": [
      "511\n",
      "Request latency: 176ms\n",
      "Status Code: 200\n",
      "Response Body: {'predictions': [0.7867759466171265], 'shap_values': {'TXDate': -0.3523402810096741, 'TXAmount': 0.005455068778246641, 'CBDate': -0.6847403049468994, 'CBAmount': 0.051228754222393036, 'CancellationDate': 0.0}}\n",
      "176\n",
      "Request latency: 147ms\n",
      "Status Code: 200\n",
      "Response Body: {'predictions': [0.7867759466171265], 'shap_values': {'TXDate': -0.3523402810096741, 'TXAmount': 0.005455068778246641, 'CBDate': -0.6847403049468994, 'CBAmount': 0.051228754222393036, 'CancellationDate': 0.0}}\n",
      "847\n",
      "Request latency: 170ms\n",
      "Status Code: 200\n",
      "Response Body: {'predictions': [0.7867759466171265], 'shap_values': {'TXDate': -0.3523402810096741, 'TXAmount': 0.005455068778246641, 'CBDate': -0.6847403049468994, 'CBAmount': 0.051228754222393036, 'CancellationDate': 0.0}}\n",
      "467\n",
      "Request latency: 181ms\n",
      "Status Code: 200\n",
      "Response Body: {'predictions': [0.7867759466171265], 'shap_values': {'TXDate': -0.3523402810096741, 'TXAmount': 0.005455068778246641, 'CBDate': -0.6847403049468994, 'CBAmount': 0.051228754222393036, 'CancellationDate': 0.0}}\n",
      "760\n",
      "Request latency: 165ms\n",
      "Status Code: 200\n",
      "Response Body: {'predictions': [0.7867759466171265], 'shap_values': {'TXDate': -0.3523402810096741, 'TXAmount': 0.005455068778246641, 'CBDate': -0.6847403049468994, 'CBAmount': 0.051228754222393036, 'CancellationDate': 0.0}}\n",
      "686\n",
      "Request latency: 147ms\n",
      "Status Code: 200\n",
      "Response Body: {'predictions': [0.7867759466171265], 'shap_values': {'TXDate': -0.3523402810096741, 'TXAmount': 0.005455068778246641, 'CBDate': -0.6847403049468994, 'CBAmount': 0.051228754222393036, 'CancellationDate': 0.0}}\n",
      "423\n",
      "Request latency: 178ms\n",
      "Status Code: 200\n",
      "Response Body: {'predictions': [0.7867759466171265], 'shap_values': {'TXDate': -0.3523402810096741, 'TXAmount': 0.005455068778246641, 'CBDate': -0.6847403049468994, 'CBAmount': 0.051228754222393036, 'CancellationDate': 0.0}}\n",
      "343\n",
      "Request latency: 174ms\n",
      "Status Code: 200\n",
      "Response Body: {'predictions': [0.7867759466171265], 'shap_values': {'TXDate': -0.3523402810096741, 'TXAmount': 0.005455068778246641, 'CBDate': -0.6847403049468994, 'CBAmount': 0.051228754222393036, 'CancellationDate': 0.0}}\n",
      "680\n",
      "Request latency: 143ms\n",
      "Status Code: 200\n",
      "Response Body: {'predictions': [0.7867759466171265], 'shap_values': {'TXDate': -0.3523402810096741, 'TXAmount': 0.005455068778246641, 'CBDate': -0.6847403049468994, 'CBAmount': 0.051228754222393036, 'CancellationDate': 0.0}}\n",
      "247\n",
      "Request latency: 176ms\n",
      "Status Code: 200\n",
      "Response Body: {'predictions': [0.7867759466171265], 'shap_values': {'TXDate': -0.3523402810096741, 'TXAmount': 0.005455068778246641, 'CBDate': -0.6847403049468994, 'CBAmount': 0.051228754222393036, 'CancellationDate': 0.0}}\n",
      "600\n",
      "Request latency: 143ms\n",
      "Status Code: 200\n",
      "Response Body: {'predictions': [0.7867759466171265], 'shap_values': {'TXDate': -0.3523402810096741, 'TXAmount': 0.005455068778246641, 'CBDate': -0.6847403049468994, 'CBAmount': 0.051228754222393036, 'CancellationDate': 0.0}}\n",
      "493\n",
      "Request latency: 167ms\n",
      "Status Code: 200\n",
      "Response Body: {'predictions': [0.7867759466171265], 'shap_values': {'TXDate': -0.3523402810096741, 'TXAmount': 0.005455068778246641, 'CBDate': -0.6847403049468994, 'CBAmount': 0.051228754222393036, 'CancellationDate': 0.0}}\n",
      "340\n",
      "Request latency: 148ms\n",
      "Status Code: 200\n",
      "Response Body: {'predictions': [0.7867759466171265], 'shap_values': {'TXDate': -0.3523402810096741, 'TXAmount': 0.005455068778246641, 'CBDate': -0.6847403049468994, 'CBAmount': 0.051228754222393036, 'CancellationDate': 0.0}}\n",
      "417\n",
      "Request latency: 162ms\n",
      "Status Code: 200\n",
      "Response Body: {'predictions': [0.7867759466171265], 'shap_values': {'TXDate': -0.3523402810096741, 'TXAmount': 0.005455068778246641, 'CBDate': -0.6847403049468994, 'CBAmount': 0.051228754222393036, 'CancellationDate': 0.0}}\n",
      "529\n",
      "Request latency: 142ms\n",
      "Status Code: 200\n",
      "Response Body: {'predictions': [0.7867759466171265], 'shap_values': {'TXDate': -0.3523402810096741, 'TXAmount': 0.005455068778246641, 'CBDate': -0.6847403049468994, 'CBAmount': 0.051228754222393036, 'CancellationDate': 0.0}}\n",
      "805\n",
      "Request latency: 173ms\n",
      "Status Code: 200\n",
      "Response Body: {'predictions': [0.7867759466171265], 'shap_values': {'TXDate': -0.3523402810096741, 'TXAmount': 0.005455068778246641, 'CBDate': -0.6847403049468994, 'CBAmount': 0.051228754222393036, 'CancellationDate': 0.0}}\n",
      "246\n"
     ]
    },
    {
     "ename": "KeyboardInterrupt",
     "evalue": "",
     "output_type": "error",
     "traceback": [
      "\u001b[0;31m---------------------------------------------------------------------------\u001b[0m",
      "\u001b[0;31mKeyboardInterrupt\u001b[0m                         Traceback (most recent call last)",
      "Cell \u001b[0;32mIn[26], line 12\u001b[0m\n\u001b[1;32m     10\u001b[0m \u001b[38;5;66;03m# Send the POST request\u001b[39;00m\n\u001b[1;32m     11\u001b[0m start_time \u001b[38;5;241m=\u001b[39m time\u001b[38;5;241m.\u001b[39mtime()\n\u001b[0;32m---> 12\u001b[0m response \u001b[38;5;241m=\u001b[39m \u001b[43mrequests\u001b[49m\u001b[38;5;241;43m.\u001b[39;49m\u001b[43mpost\u001b[49m\u001b[43m(\u001b[49m\u001b[43murl\u001b[49m\u001b[43m,\u001b[49m\u001b[43m \u001b[49m\u001b[43mauth\u001b[49m\u001b[38;5;241;43m=\u001b[39;49m\u001b[43mauth\u001b[49m\u001b[43m,\u001b[49m\u001b[43m \u001b[49m\u001b[43mheaders\u001b[49m\u001b[38;5;241;43m=\u001b[39;49m\u001b[43mheaders\u001b[49m\u001b[43m,\u001b[49m\u001b[43m \u001b[49m\u001b[43mdata\u001b[49m\u001b[38;5;241;43m=\u001b[39;49m\u001b[43mdata\u001b[49m\u001b[43m)\u001b[49m\n\u001b[1;32m     13\u001b[0m end_time \u001b[38;5;241m=\u001b[39m time\u001b[38;5;241m.\u001b[39mtime()\n\u001b[1;32m     15\u001b[0m latency \u001b[38;5;241m=\u001b[39m (end_time \u001b[38;5;241m-\u001b[39m start_time) \u001b[38;5;241m*\u001b[39m \u001b[38;5;241m1000\u001b[39m\n",
      "File \u001b[0;32m~/anaconda3/envs/python3/lib/python3.10/site-packages/requests/api.py:115\u001b[0m, in \u001b[0;36mpost\u001b[0;34m(url, data, json, **kwargs)\u001b[0m\n\u001b[1;32m    103\u001b[0m \u001b[38;5;28;01mdef\u001b[39;00m \u001b[38;5;21mpost\u001b[39m(url, data\u001b[38;5;241m=\u001b[39m\u001b[38;5;28;01mNone\u001b[39;00m, json\u001b[38;5;241m=\u001b[39m\u001b[38;5;28;01mNone\u001b[39;00m, \u001b[38;5;241m*\u001b[39m\u001b[38;5;241m*\u001b[39mkwargs):\n\u001b[1;32m    104\u001b[0m \u001b[38;5;250m    \u001b[39m\u001b[38;5;124mr\u001b[39m\u001b[38;5;124;03m\"\"\"Sends a POST request.\u001b[39;00m\n\u001b[1;32m    105\u001b[0m \n\u001b[1;32m    106\u001b[0m \u001b[38;5;124;03m    :param url: URL for the new :class:`Request` object.\u001b[39;00m\n\u001b[0;32m   (...)\u001b[0m\n\u001b[1;32m    112\u001b[0m \u001b[38;5;124;03m    :rtype: requests.Response\u001b[39;00m\n\u001b[1;32m    113\u001b[0m \u001b[38;5;124;03m    \"\"\"\u001b[39;00m\n\u001b[0;32m--> 115\u001b[0m     \u001b[38;5;28;01mreturn\u001b[39;00m \u001b[43mrequest\u001b[49m\u001b[43m(\u001b[49m\u001b[38;5;124;43m\"\u001b[39;49m\u001b[38;5;124;43mpost\u001b[39;49m\u001b[38;5;124;43m\"\u001b[39;49m\u001b[43m,\u001b[49m\u001b[43m \u001b[49m\u001b[43murl\u001b[49m\u001b[43m,\u001b[49m\u001b[43m \u001b[49m\u001b[43mdata\u001b[49m\u001b[38;5;241;43m=\u001b[39;49m\u001b[43mdata\u001b[49m\u001b[43m,\u001b[49m\u001b[43m \u001b[49m\u001b[43mjson\u001b[49m\u001b[38;5;241;43m=\u001b[39;49m\u001b[43mjson\u001b[49m\u001b[43m,\u001b[49m\u001b[43m \u001b[49m\u001b[38;5;241;43m*\u001b[39;49m\u001b[38;5;241;43m*\u001b[39;49m\u001b[43mkwargs\u001b[49m\u001b[43m)\u001b[49m\n",
      "File \u001b[0;32m~/anaconda3/envs/python3/lib/python3.10/site-packages/requests/api.py:59\u001b[0m, in \u001b[0;36mrequest\u001b[0;34m(method, url, **kwargs)\u001b[0m\n\u001b[1;32m     55\u001b[0m \u001b[38;5;66;03m# By using the 'with' statement we are sure the session is closed, thus we\u001b[39;00m\n\u001b[1;32m     56\u001b[0m \u001b[38;5;66;03m# avoid leaving sockets open which can trigger a ResourceWarning in some\u001b[39;00m\n\u001b[1;32m     57\u001b[0m \u001b[38;5;66;03m# cases, and look like a memory leak in others.\u001b[39;00m\n\u001b[1;32m     58\u001b[0m \u001b[38;5;28;01mwith\u001b[39;00m sessions\u001b[38;5;241m.\u001b[39mSession() \u001b[38;5;28;01mas\u001b[39;00m session:\n\u001b[0;32m---> 59\u001b[0m     \u001b[38;5;28;01mreturn\u001b[39;00m \u001b[43msession\u001b[49m\u001b[38;5;241;43m.\u001b[39;49m\u001b[43mrequest\u001b[49m\u001b[43m(\u001b[49m\u001b[43mmethod\u001b[49m\u001b[38;5;241;43m=\u001b[39;49m\u001b[43mmethod\u001b[49m\u001b[43m,\u001b[49m\u001b[43m \u001b[49m\u001b[43murl\u001b[49m\u001b[38;5;241;43m=\u001b[39;49m\u001b[43murl\u001b[49m\u001b[43m,\u001b[49m\u001b[43m \u001b[49m\u001b[38;5;241;43m*\u001b[39;49m\u001b[38;5;241;43m*\u001b[39;49m\u001b[43mkwargs\u001b[49m\u001b[43m)\u001b[49m\n",
      "File \u001b[0;32m~/anaconda3/envs/python3/lib/python3.10/site-packages/requests/sessions.py:589\u001b[0m, in \u001b[0;36mSession.request\u001b[0;34m(self, method, url, params, data, headers, cookies, files, auth, timeout, allow_redirects, proxies, hooks, stream, verify, cert, json)\u001b[0m\n\u001b[1;32m    584\u001b[0m send_kwargs \u001b[38;5;241m=\u001b[39m {\n\u001b[1;32m    585\u001b[0m     \u001b[38;5;124m\"\u001b[39m\u001b[38;5;124mtimeout\u001b[39m\u001b[38;5;124m\"\u001b[39m: timeout,\n\u001b[1;32m    586\u001b[0m     \u001b[38;5;124m\"\u001b[39m\u001b[38;5;124mallow_redirects\u001b[39m\u001b[38;5;124m\"\u001b[39m: allow_redirects,\n\u001b[1;32m    587\u001b[0m }\n\u001b[1;32m    588\u001b[0m send_kwargs\u001b[38;5;241m.\u001b[39mupdate(settings)\n\u001b[0;32m--> 589\u001b[0m resp \u001b[38;5;241m=\u001b[39m \u001b[38;5;28;43mself\u001b[39;49m\u001b[38;5;241;43m.\u001b[39;49m\u001b[43msend\u001b[49m\u001b[43m(\u001b[49m\u001b[43mprep\u001b[49m\u001b[43m,\u001b[49m\u001b[43m \u001b[49m\u001b[38;5;241;43m*\u001b[39;49m\u001b[38;5;241;43m*\u001b[39;49m\u001b[43msend_kwargs\u001b[49m\u001b[43m)\u001b[49m\n\u001b[1;32m    591\u001b[0m \u001b[38;5;28;01mreturn\u001b[39;00m resp\n",
      "File \u001b[0;32m~/anaconda3/envs/python3/lib/python3.10/site-packages/requests/sessions.py:703\u001b[0m, in \u001b[0;36mSession.send\u001b[0;34m(self, request, **kwargs)\u001b[0m\n\u001b[1;32m    700\u001b[0m start \u001b[38;5;241m=\u001b[39m preferred_clock()\n\u001b[1;32m    702\u001b[0m \u001b[38;5;66;03m# Send the request\u001b[39;00m\n\u001b[0;32m--> 703\u001b[0m r \u001b[38;5;241m=\u001b[39m \u001b[43madapter\u001b[49m\u001b[38;5;241;43m.\u001b[39;49m\u001b[43msend\u001b[49m\u001b[43m(\u001b[49m\u001b[43mrequest\u001b[49m\u001b[43m,\u001b[49m\u001b[43m \u001b[49m\u001b[38;5;241;43m*\u001b[39;49m\u001b[38;5;241;43m*\u001b[39;49m\u001b[43mkwargs\u001b[49m\u001b[43m)\u001b[49m\n\u001b[1;32m    705\u001b[0m \u001b[38;5;66;03m# Total elapsed time of the request (approximately)\u001b[39;00m\n\u001b[1;32m    706\u001b[0m elapsed \u001b[38;5;241m=\u001b[39m preferred_clock() \u001b[38;5;241m-\u001b[39m start\n",
      "File \u001b[0;32m~/anaconda3/envs/python3/lib/python3.10/site-packages/requests/adapters.py:667\u001b[0m, in \u001b[0;36mHTTPAdapter.send\u001b[0;34m(self, request, stream, timeout, verify, cert, proxies)\u001b[0m\n\u001b[1;32m    664\u001b[0m     timeout \u001b[38;5;241m=\u001b[39m TimeoutSauce(connect\u001b[38;5;241m=\u001b[39mtimeout, read\u001b[38;5;241m=\u001b[39mtimeout)\n\u001b[1;32m    666\u001b[0m \u001b[38;5;28;01mtry\u001b[39;00m:\n\u001b[0;32m--> 667\u001b[0m     resp \u001b[38;5;241m=\u001b[39m \u001b[43mconn\u001b[49m\u001b[38;5;241;43m.\u001b[39;49m\u001b[43murlopen\u001b[49m\u001b[43m(\u001b[49m\n\u001b[1;32m    668\u001b[0m \u001b[43m        \u001b[49m\u001b[43mmethod\u001b[49m\u001b[38;5;241;43m=\u001b[39;49m\u001b[43mrequest\u001b[49m\u001b[38;5;241;43m.\u001b[39;49m\u001b[43mmethod\u001b[49m\u001b[43m,\u001b[49m\n\u001b[1;32m    669\u001b[0m \u001b[43m        \u001b[49m\u001b[43murl\u001b[49m\u001b[38;5;241;43m=\u001b[39;49m\u001b[43murl\u001b[49m\u001b[43m,\u001b[49m\n\u001b[1;32m    670\u001b[0m \u001b[43m        \u001b[49m\u001b[43mbody\u001b[49m\u001b[38;5;241;43m=\u001b[39;49m\u001b[43mrequest\u001b[49m\u001b[38;5;241;43m.\u001b[39;49m\u001b[43mbody\u001b[49m\u001b[43m,\u001b[49m\n\u001b[1;32m    671\u001b[0m \u001b[43m        \u001b[49m\u001b[43mheaders\u001b[49m\u001b[38;5;241;43m=\u001b[39;49m\u001b[43mrequest\u001b[49m\u001b[38;5;241;43m.\u001b[39;49m\u001b[43mheaders\u001b[49m\u001b[43m,\u001b[49m\n\u001b[1;32m    672\u001b[0m \u001b[43m        \u001b[49m\u001b[43mredirect\u001b[49m\u001b[38;5;241;43m=\u001b[39;49m\u001b[38;5;28;43;01mFalse\u001b[39;49;00m\u001b[43m,\u001b[49m\n\u001b[1;32m    673\u001b[0m \u001b[43m        \u001b[49m\u001b[43massert_same_host\u001b[49m\u001b[38;5;241;43m=\u001b[39;49m\u001b[38;5;28;43;01mFalse\u001b[39;49;00m\u001b[43m,\u001b[49m\n\u001b[1;32m    674\u001b[0m \u001b[43m        \u001b[49m\u001b[43mpreload_content\u001b[49m\u001b[38;5;241;43m=\u001b[39;49m\u001b[38;5;28;43;01mFalse\u001b[39;49;00m\u001b[43m,\u001b[49m\n\u001b[1;32m    675\u001b[0m \u001b[43m        \u001b[49m\u001b[43mdecode_content\u001b[49m\u001b[38;5;241;43m=\u001b[39;49m\u001b[38;5;28;43;01mFalse\u001b[39;49;00m\u001b[43m,\u001b[49m\n\u001b[1;32m    676\u001b[0m \u001b[43m        \u001b[49m\u001b[43mretries\u001b[49m\u001b[38;5;241;43m=\u001b[39;49m\u001b[38;5;28;43mself\u001b[39;49m\u001b[38;5;241;43m.\u001b[39;49m\u001b[43mmax_retries\u001b[49m\u001b[43m,\u001b[49m\n\u001b[1;32m    677\u001b[0m \u001b[43m        \u001b[49m\u001b[43mtimeout\u001b[49m\u001b[38;5;241;43m=\u001b[39;49m\u001b[43mtimeout\u001b[49m\u001b[43m,\u001b[49m\n\u001b[1;32m    678\u001b[0m \u001b[43m        \u001b[49m\u001b[43mchunked\u001b[49m\u001b[38;5;241;43m=\u001b[39;49m\u001b[43mchunked\u001b[49m\u001b[43m,\u001b[49m\n\u001b[1;32m    679\u001b[0m \u001b[43m    \u001b[49m\u001b[43m)\u001b[49m\n\u001b[1;32m    681\u001b[0m \u001b[38;5;28;01mexcept\u001b[39;00m (ProtocolError, \u001b[38;5;167;01mOSError\u001b[39;00m) \u001b[38;5;28;01mas\u001b[39;00m err:\n\u001b[1;32m    682\u001b[0m     \u001b[38;5;28;01mraise\u001b[39;00m \u001b[38;5;167;01mConnectionError\u001b[39;00m(err, request\u001b[38;5;241m=\u001b[39mrequest)\n",
      "File \u001b[0;32m~/anaconda3/envs/python3/lib/python3.10/site-packages/urllib3/connectionpool.py:793\u001b[0m, in \u001b[0;36mHTTPConnectionPool.urlopen\u001b[0;34m(self, method, url, body, headers, retries, redirect, assert_same_host, timeout, pool_timeout, release_conn, chunked, body_pos, preload_content, decode_content, **response_kw)\u001b[0m\n\u001b[1;32m    790\u001b[0m response_conn \u001b[38;5;241m=\u001b[39m conn \u001b[38;5;28;01mif\u001b[39;00m \u001b[38;5;129;01mnot\u001b[39;00m release_conn \u001b[38;5;28;01melse\u001b[39;00m \u001b[38;5;28;01mNone\u001b[39;00m\n\u001b[1;32m    792\u001b[0m \u001b[38;5;66;03m# Make the request on the HTTPConnection object\u001b[39;00m\n\u001b[0;32m--> 793\u001b[0m response \u001b[38;5;241m=\u001b[39m \u001b[38;5;28;43mself\u001b[39;49m\u001b[38;5;241;43m.\u001b[39;49m\u001b[43m_make_request\u001b[49m\u001b[43m(\u001b[49m\n\u001b[1;32m    794\u001b[0m \u001b[43m    \u001b[49m\u001b[43mconn\u001b[49m\u001b[43m,\u001b[49m\n\u001b[1;32m    795\u001b[0m \u001b[43m    \u001b[49m\u001b[43mmethod\u001b[49m\u001b[43m,\u001b[49m\n\u001b[1;32m    796\u001b[0m \u001b[43m    \u001b[49m\u001b[43murl\u001b[49m\u001b[43m,\u001b[49m\n\u001b[1;32m    797\u001b[0m \u001b[43m    \u001b[49m\u001b[43mtimeout\u001b[49m\u001b[38;5;241;43m=\u001b[39;49m\u001b[43mtimeout_obj\u001b[49m\u001b[43m,\u001b[49m\n\u001b[1;32m    798\u001b[0m \u001b[43m    \u001b[49m\u001b[43mbody\u001b[49m\u001b[38;5;241;43m=\u001b[39;49m\u001b[43mbody\u001b[49m\u001b[43m,\u001b[49m\n\u001b[1;32m    799\u001b[0m \u001b[43m    \u001b[49m\u001b[43mheaders\u001b[49m\u001b[38;5;241;43m=\u001b[39;49m\u001b[43mheaders\u001b[49m\u001b[43m,\u001b[49m\n\u001b[1;32m    800\u001b[0m \u001b[43m    \u001b[49m\u001b[43mchunked\u001b[49m\u001b[38;5;241;43m=\u001b[39;49m\u001b[43mchunked\u001b[49m\u001b[43m,\u001b[49m\n\u001b[1;32m    801\u001b[0m \u001b[43m    \u001b[49m\u001b[43mretries\u001b[49m\u001b[38;5;241;43m=\u001b[39;49m\u001b[43mretries\u001b[49m\u001b[43m,\u001b[49m\n\u001b[1;32m    802\u001b[0m \u001b[43m    \u001b[49m\u001b[43mresponse_conn\u001b[49m\u001b[38;5;241;43m=\u001b[39;49m\u001b[43mresponse_conn\u001b[49m\u001b[43m,\u001b[49m\n\u001b[1;32m    803\u001b[0m \u001b[43m    \u001b[49m\u001b[43mpreload_content\u001b[49m\u001b[38;5;241;43m=\u001b[39;49m\u001b[43mpreload_content\u001b[49m\u001b[43m,\u001b[49m\n\u001b[1;32m    804\u001b[0m \u001b[43m    \u001b[49m\u001b[43mdecode_content\u001b[49m\u001b[38;5;241;43m=\u001b[39;49m\u001b[43mdecode_content\u001b[49m\u001b[43m,\u001b[49m\n\u001b[1;32m    805\u001b[0m \u001b[43m    \u001b[49m\u001b[38;5;241;43m*\u001b[39;49m\u001b[38;5;241;43m*\u001b[39;49m\u001b[43mresponse_kw\u001b[49m\u001b[43m,\u001b[49m\n\u001b[1;32m    806\u001b[0m \u001b[43m\u001b[49m\u001b[43m)\u001b[49m\n\u001b[1;32m    808\u001b[0m \u001b[38;5;66;03m# Everything went great!\u001b[39;00m\n\u001b[1;32m    809\u001b[0m clean_exit \u001b[38;5;241m=\u001b[39m \u001b[38;5;28;01mTrue\u001b[39;00m\n",
      "File \u001b[0;32m~/anaconda3/envs/python3/lib/python3.10/site-packages/urllib3/connectionpool.py:537\u001b[0m, in \u001b[0;36mHTTPConnectionPool._make_request\u001b[0;34m(self, conn, method, url, body, headers, retries, timeout, chunked, response_conn, preload_content, decode_content, enforce_content_length)\u001b[0m\n\u001b[1;32m    535\u001b[0m \u001b[38;5;66;03m# Receive the response from the server\u001b[39;00m\n\u001b[1;32m    536\u001b[0m \u001b[38;5;28;01mtry\u001b[39;00m:\n\u001b[0;32m--> 537\u001b[0m     response \u001b[38;5;241m=\u001b[39m \u001b[43mconn\u001b[49m\u001b[38;5;241;43m.\u001b[39;49m\u001b[43mgetresponse\u001b[49m\u001b[43m(\u001b[49m\u001b[43m)\u001b[49m\n\u001b[1;32m    538\u001b[0m \u001b[38;5;28;01mexcept\u001b[39;00m (BaseSSLError, \u001b[38;5;167;01mOSError\u001b[39;00m) \u001b[38;5;28;01mas\u001b[39;00m e:\n\u001b[1;32m    539\u001b[0m     \u001b[38;5;28mself\u001b[39m\u001b[38;5;241m.\u001b[39m_raise_timeout(err\u001b[38;5;241m=\u001b[39me, url\u001b[38;5;241m=\u001b[39murl, timeout_value\u001b[38;5;241m=\u001b[39mread_timeout)\n",
      "File \u001b[0;32m~/anaconda3/envs/python3/lib/python3.10/site-packages/urllib3/connection.py:466\u001b[0m, in \u001b[0;36mHTTPConnection.getresponse\u001b[0;34m(self)\u001b[0m\n\u001b[1;32m    463\u001b[0m \u001b[38;5;28;01mfrom\u001b[39;00m \u001b[38;5;21;01m.\u001b[39;00m\u001b[38;5;21;01mresponse\u001b[39;00m \u001b[38;5;28;01mimport\u001b[39;00m HTTPResponse\n\u001b[1;32m    465\u001b[0m \u001b[38;5;66;03m# Get the response from http.client.HTTPConnection\u001b[39;00m\n\u001b[0;32m--> 466\u001b[0m httplib_response \u001b[38;5;241m=\u001b[39m \u001b[38;5;28;43msuper\u001b[39;49m\u001b[43m(\u001b[49m\u001b[43m)\u001b[49m\u001b[38;5;241;43m.\u001b[39;49m\u001b[43mgetresponse\u001b[49m\u001b[43m(\u001b[49m\u001b[43m)\u001b[49m\n\u001b[1;32m    468\u001b[0m \u001b[38;5;28;01mtry\u001b[39;00m:\n\u001b[1;32m    469\u001b[0m     assert_header_parsing(httplib_response\u001b[38;5;241m.\u001b[39mmsg)\n",
      "File \u001b[0;32m~/anaconda3/envs/python3/lib/python3.10/http/client.py:1375\u001b[0m, in \u001b[0;36mHTTPConnection.getresponse\u001b[0;34m(self)\u001b[0m\n\u001b[1;32m   1373\u001b[0m \u001b[38;5;28;01mtry\u001b[39;00m:\n\u001b[1;32m   1374\u001b[0m     \u001b[38;5;28;01mtry\u001b[39;00m:\n\u001b[0;32m-> 1375\u001b[0m         \u001b[43mresponse\u001b[49m\u001b[38;5;241;43m.\u001b[39;49m\u001b[43mbegin\u001b[49m\u001b[43m(\u001b[49m\u001b[43m)\u001b[49m\n\u001b[1;32m   1376\u001b[0m     \u001b[38;5;28;01mexcept\u001b[39;00m \u001b[38;5;167;01mConnectionError\u001b[39;00m:\n\u001b[1;32m   1377\u001b[0m         \u001b[38;5;28mself\u001b[39m\u001b[38;5;241m.\u001b[39mclose()\n",
      "File \u001b[0;32m~/anaconda3/envs/python3/lib/python3.10/http/client.py:318\u001b[0m, in \u001b[0;36mHTTPResponse.begin\u001b[0;34m(self)\u001b[0m\n\u001b[1;32m    316\u001b[0m \u001b[38;5;66;03m# read until we get a non-100 response\u001b[39;00m\n\u001b[1;32m    317\u001b[0m \u001b[38;5;28;01mwhile\u001b[39;00m \u001b[38;5;28;01mTrue\u001b[39;00m:\n\u001b[0;32m--> 318\u001b[0m     version, status, reason \u001b[38;5;241m=\u001b[39m \u001b[38;5;28;43mself\u001b[39;49m\u001b[38;5;241;43m.\u001b[39;49m\u001b[43m_read_status\u001b[49m\u001b[43m(\u001b[49m\u001b[43m)\u001b[49m\n\u001b[1;32m    319\u001b[0m     \u001b[38;5;28;01mif\u001b[39;00m status \u001b[38;5;241m!=\u001b[39m CONTINUE:\n\u001b[1;32m    320\u001b[0m         \u001b[38;5;28;01mbreak\u001b[39;00m\n",
      "File \u001b[0;32m~/anaconda3/envs/python3/lib/python3.10/http/client.py:279\u001b[0m, in \u001b[0;36mHTTPResponse._read_status\u001b[0;34m(self)\u001b[0m\n\u001b[1;32m    278\u001b[0m \u001b[38;5;28;01mdef\u001b[39;00m \u001b[38;5;21m_read_status\u001b[39m(\u001b[38;5;28mself\u001b[39m):\n\u001b[0;32m--> 279\u001b[0m     line \u001b[38;5;241m=\u001b[39m \u001b[38;5;28mstr\u001b[39m(\u001b[38;5;28;43mself\u001b[39;49m\u001b[38;5;241;43m.\u001b[39;49m\u001b[43mfp\u001b[49m\u001b[38;5;241;43m.\u001b[39;49m\u001b[43mreadline\u001b[49m\u001b[43m(\u001b[49m\u001b[43m_MAXLINE\u001b[49m\u001b[43m \u001b[49m\u001b[38;5;241;43m+\u001b[39;49m\u001b[43m \u001b[49m\u001b[38;5;241;43m1\u001b[39;49m\u001b[43m)\u001b[49m, \u001b[38;5;124m\"\u001b[39m\u001b[38;5;124miso-8859-1\u001b[39m\u001b[38;5;124m\"\u001b[39m)\n\u001b[1;32m    280\u001b[0m     \u001b[38;5;28;01mif\u001b[39;00m \u001b[38;5;28mlen\u001b[39m(line) \u001b[38;5;241m>\u001b[39m _MAXLINE:\n\u001b[1;32m    281\u001b[0m         \u001b[38;5;28;01mraise\u001b[39;00m LineTooLong(\u001b[38;5;124m\"\u001b[39m\u001b[38;5;124mstatus line\u001b[39m\u001b[38;5;124m\"\u001b[39m)\n",
      "File \u001b[0;32m~/anaconda3/envs/python3/lib/python3.10/socket.py:705\u001b[0m, in \u001b[0;36mSocketIO.readinto\u001b[0;34m(self, b)\u001b[0m\n\u001b[1;32m    703\u001b[0m \u001b[38;5;28;01mwhile\u001b[39;00m \u001b[38;5;28;01mTrue\u001b[39;00m:\n\u001b[1;32m    704\u001b[0m     \u001b[38;5;28;01mtry\u001b[39;00m:\n\u001b[0;32m--> 705\u001b[0m         \u001b[38;5;28;01mreturn\u001b[39;00m \u001b[38;5;28;43mself\u001b[39;49m\u001b[38;5;241;43m.\u001b[39;49m\u001b[43m_sock\u001b[49m\u001b[38;5;241;43m.\u001b[39;49m\u001b[43mrecv_into\u001b[49m\u001b[43m(\u001b[49m\u001b[43mb\u001b[49m\u001b[43m)\u001b[49m\n\u001b[1;32m    706\u001b[0m     \u001b[38;5;28;01mexcept\u001b[39;00m timeout:\n\u001b[1;32m    707\u001b[0m         \u001b[38;5;28mself\u001b[39m\u001b[38;5;241m.\u001b[39m_timeout_occurred \u001b[38;5;241m=\u001b[39m \u001b[38;5;28;01mTrue\u001b[39;00m\n",
      "File \u001b[0;32m~/anaconda3/envs/python3/lib/python3.10/ssl.py:1307\u001b[0m, in \u001b[0;36mSSLSocket.recv_into\u001b[0;34m(self, buffer, nbytes, flags)\u001b[0m\n\u001b[1;32m   1303\u001b[0m     \u001b[38;5;28;01mif\u001b[39;00m flags \u001b[38;5;241m!=\u001b[39m \u001b[38;5;241m0\u001b[39m:\n\u001b[1;32m   1304\u001b[0m         \u001b[38;5;28;01mraise\u001b[39;00m \u001b[38;5;167;01mValueError\u001b[39;00m(\n\u001b[1;32m   1305\u001b[0m           \u001b[38;5;124m\"\u001b[39m\u001b[38;5;124mnon-zero flags not allowed in calls to recv_into() on \u001b[39m\u001b[38;5;132;01m%s\u001b[39;00m\u001b[38;5;124m\"\u001b[39m \u001b[38;5;241m%\u001b[39m\n\u001b[1;32m   1306\u001b[0m           \u001b[38;5;28mself\u001b[39m\u001b[38;5;241m.\u001b[39m\u001b[38;5;18m__class__\u001b[39m)\n\u001b[0;32m-> 1307\u001b[0m     \u001b[38;5;28;01mreturn\u001b[39;00m \u001b[38;5;28;43mself\u001b[39;49m\u001b[38;5;241;43m.\u001b[39;49m\u001b[43mread\u001b[49m\u001b[43m(\u001b[49m\u001b[43mnbytes\u001b[49m\u001b[43m,\u001b[49m\u001b[43m \u001b[49m\u001b[43mbuffer\u001b[49m\u001b[43m)\u001b[49m\n\u001b[1;32m   1308\u001b[0m \u001b[38;5;28;01melse\u001b[39;00m:\n\u001b[1;32m   1309\u001b[0m     \u001b[38;5;28;01mreturn\u001b[39;00m \u001b[38;5;28msuper\u001b[39m()\u001b[38;5;241m.\u001b[39mrecv_into(buffer, nbytes, flags)\n",
      "File \u001b[0;32m~/anaconda3/envs/python3/lib/python3.10/ssl.py:1163\u001b[0m, in \u001b[0;36mSSLSocket.read\u001b[0;34m(self, len, buffer)\u001b[0m\n\u001b[1;32m   1161\u001b[0m \u001b[38;5;28;01mtry\u001b[39;00m:\n\u001b[1;32m   1162\u001b[0m     \u001b[38;5;28;01mif\u001b[39;00m buffer \u001b[38;5;129;01mis\u001b[39;00m \u001b[38;5;129;01mnot\u001b[39;00m \u001b[38;5;28;01mNone\u001b[39;00m:\n\u001b[0;32m-> 1163\u001b[0m         \u001b[38;5;28;01mreturn\u001b[39;00m \u001b[38;5;28;43mself\u001b[39;49m\u001b[38;5;241;43m.\u001b[39;49m\u001b[43m_sslobj\u001b[49m\u001b[38;5;241;43m.\u001b[39;49m\u001b[43mread\u001b[49m\u001b[43m(\u001b[49m\u001b[38;5;28;43mlen\u001b[39;49m\u001b[43m,\u001b[49m\u001b[43m \u001b[49m\u001b[43mbuffer\u001b[49m\u001b[43m)\u001b[49m\n\u001b[1;32m   1164\u001b[0m     \u001b[38;5;28;01melse\u001b[39;00m:\n\u001b[1;32m   1165\u001b[0m         \u001b[38;5;28;01mreturn\u001b[39;00m \u001b[38;5;28mself\u001b[39m\u001b[38;5;241m.\u001b[39m_sslobj\u001b[38;5;241m.\u001b[39mread(\u001b[38;5;28mlen\u001b[39m)\n",
      "\u001b[0;31mKeyboardInterrupt\u001b[0m: "
     ]
    }
   ],
   "source": [
    "for i in range(20):\n",
    "    \n",
    "    row = random.randint(0, d.shape[0])\n",
    "    #row = i\n",
    "\n",
    "    d_obs = d.iloc[row].to_dict()\n",
    "    print(row)\n",
    "    data = json.dumps(d_obs)\n",
    "\n",
    "    # Send the POST request\n",
    "    start_time = time.time()\n",
    "    response = requests.post(url, auth=auth, headers=headers, data=data)\n",
    "    end_time = time.time()\n",
    "\n",
    "    latency = (end_time - start_time) * 1000\n",
    "\n",
    "    # Print the latency\n",
    "    print(f\"Request latency: {latency:.0f}ms\")\n",
    "\n",
    "    # Print the response\n",
    "    print(\"Status Code:\", response.status_code)\n",
    "    print(\"Response Body:\", response.json())"
   ]
  },
  {
   "cell_type": "code",
   "execution_count": null,
   "id": "2b48ffe9-243b-44ab-ba3d-bcbb670012e6",
   "metadata": {},
   "outputs": [],
   "source": []
  }
 ],
 "metadata": {
  "kernelspec": {
   "display_name": "conda_python3",
   "language": "python",
   "name": "conda_python3"
  },
  "language_info": {
   "codemirror_mode": {
    "name": "ipython",
    "version": 3
   },
   "file_extension": ".py",
   "mimetype": "text/x-python",
   "name": "python",
   "nbconvert_exporter": "python",
   "pygments_lexer": "ipython3",
   "version": "3.10.15"
  }
 },
 "nbformat": 4,
 "nbformat_minor": 5
}
